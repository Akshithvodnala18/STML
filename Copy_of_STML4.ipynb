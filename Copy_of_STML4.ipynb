{
  "nbformat": 4,
  "nbformat_minor": 0,
  "metadata": {
    "colab": {
      "provenance": [],
      "authorship_tag": "ABX9TyOB4wwYyWbp92+/f3P2sJFg",
      "include_colab_link": true
    },
    "kernelspec": {
      "name": "python3",
      "display_name": "Python 3"
    },
    "language_info": {
      "name": "python"
    }
  },
  "cells": [
    {
      "cell_type": "markdown",
      "metadata": {
        "id": "view-in-github",
        "colab_type": "text"
      },
      "source": [
        "<a href=\"https://colab.research.google.com/github/Akshithvodnala18/STML/blob/main/Copy_of_STML4.ipynb\" target=\"_parent\"><img src=\"https://colab.research.google.com/assets/colab-badge.svg\" alt=\"Open In Colab\"/></a>"
      ]
    },
    {
      "cell_type": "code",
      "execution_count": null,
      "metadata": {
        "colab": {
          "base_uri": "https://localhost:8080/"
        },
        "id": "SzGWfIzbsvJu",
        "outputId": "25a5c382-b3a7-4bc8-e469-014d209b7574"
      },
      "outputs": [
        {
          "output_type": "stream",
          "name": "stdout",
          "text": [
            "      battery_power  blue  clock_speed  dual_sim  fc  four_g  int_memory  \\\n",
            "0               842     0          2.2         0   1       0           7   \n",
            "1              1021     1          0.5         1   0       1          53   \n",
            "2               563     1          0.5         1   2       1          41   \n",
            "3               615     1          2.5         0   0       0          10   \n",
            "4              1821     1          1.2         0  13       1          44   \n",
            "...             ...   ...          ...       ...  ..     ...         ...   \n",
            "1995            794     1          0.5         1   0       1           2   \n",
            "1996           1965     1          2.6         1   0       0          39   \n",
            "1997           1911     0          0.9         1   1       1          36   \n",
            "1998           1512     0          0.9         0   4       1          46   \n",
            "1999            510     1          2.0         1   5       1          45   \n",
            "\n",
            "      m_dep  mobile_wt  n_cores  ...  px_height  px_width   ram  sc_h  sc_w  \\\n",
            "0       0.6        188        2  ...         20       756  2549     9     7   \n",
            "1       0.7        136        3  ...        905      1988  2631    17     3   \n",
            "2       0.9        145        5  ...       1263      1716  2603    11     2   \n",
            "3       0.8        131        6  ...       1216      1786  2769    16     8   \n",
            "4       0.6        141        2  ...       1208      1212  1411     8     2   \n",
            "...     ...        ...      ...  ...        ...       ...   ...   ...   ...   \n",
            "1995    0.8        106        6  ...       1222      1890   668    13     4   \n",
            "1996    0.2        187        4  ...        915      1965  2032    11    10   \n",
            "1997    0.7        108        8  ...        868      1632  3057     9     1   \n",
            "1998    0.1        145        5  ...        336       670   869    18    10   \n",
            "1999    0.9        168        6  ...        483       754  3919    19     4   \n",
            "\n",
            "      talk_time  three_g  touch_screen  wifi  price_range  \n",
            "0            19        0             0     1            1  \n",
            "1             7        1             1     0            2  \n",
            "2             9        1             1     0            2  \n",
            "3            11        1             0     0            2  \n",
            "4            15        1             1     0            1  \n",
            "...         ...      ...           ...   ...          ...  \n",
            "1995         19        1             1     0            0  \n",
            "1996         16        1             1     1            2  \n",
            "1997          5        1             1     0            3  \n",
            "1998         19        1             1     1            0  \n",
            "1999          2        1             1     1            3  \n",
            "\n",
            "[2000 rows x 21 columns]\n"
          ]
        }
      ],
      "source": [
        "import pandas as pd\n",
        "file_path = \"train.csv\"\n",
        "df = pd.read_csv(file_path)\n",
        "print(df)"
      ]
    },
    {
      "cell_type": "code",
      "source": [
        "from google.colab import drive\n",
        "drive.mount('/content/drive')"
      ],
      "metadata": {
        "id": "9C6YSoUf4Sf9",
        "colab": {
          "base_uri": "https://localhost:8080/"
        },
        "outputId": "17b7a4b5-b881-44fb-e8e1-efce43ff28f7"
      },
      "execution_count": null,
      "outputs": [
        {
          "output_type": "stream",
          "name": "stdout",
          "text": [
            "Mounted at /content/drive\n"
          ]
        }
      ]
    },
    {
      "cell_type": "code",
      "source": [
        "y=df['price_range']\n",
        "print(y)"
      ],
      "metadata": {
        "colab": {
          "base_uri": "https://localhost:8080/"
        },
        "id": "FhB_yGfbP3YY",
        "outputId": "cf138e65-9c08-4af5-b666-76cc379fd1cc"
      },
      "execution_count": null,
      "outputs": [
        {
          "output_type": "stream",
          "name": "stdout",
          "text": [
            "0       1\n",
            "1       2\n",
            "2       2\n",
            "3       2\n",
            "4       1\n",
            "       ..\n",
            "1995    0\n",
            "1996    2\n",
            "1997    3\n",
            "1998    0\n",
            "1999    3\n",
            "Name: price_range, Length: 2000, dtype: int64\n"
          ]
        }
      ]
    },
    {
      "cell_type": "markdown",
      "source": [
        "\n",
        "\n",
        "```\n",
        ".Normalize the data with min-max scaling\n",
        "```\n",
        "\n"
      ],
      "metadata": {
        "id": "cX0Ldk3DP-Zy"
      }
    },
    {
      "cell_type": "code",
      "source": [
        " x=df.drop('price_range',axis=1)\n",
        "print(x)"
      ],
      "metadata": {
        "colab": {
          "base_uri": "https://localhost:8080/"
        },
        "id": "8-P-lib2P82s",
        "outputId": "9ea68d89-dcc6-4d14-bb13-8054c08f11e9"
      },
      "execution_count": null,
      "outputs": [
        {
          "output_type": "stream",
          "name": "stdout",
          "text": [
            "      battery_power  blue  clock_speed  dual_sim  fc  four_g  int_memory  \\\n",
            "0               842     0          2.2         0   1       0           7   \n",
            "1              1021     1          0.5         1   0       1          53   \n",
            "2               563     1          0.5         1   2       1          41   \n",
            "3               615     1          2.5         0   0       0          10   \n",
            "4              1821     1          1.2         0  13       1          44   \n",
            "...             ...   ...          ...       ...  ..     ...         ...   \n",
            "1995            794     1          0.5         1   0       1           2   \n",
            "1996           1965     1          2.6         1   0       0          39   \n",
            "1997           1911     0          0.9         1   1       1          36   \n",
            "1998           1512     0          0.9         0   4       1          46   \n",
            "1999            510     1          2.0         1   5       1          45   \n",
            "\n",
            "      m_dep  mobile_wt  n_cores  pc  px_height  px_width   ram  sc_h  sc_w  \\\n",
            "0       0.6        188        2   2         20       756  2549     9     7   \n",
            "1       0.7        136        3   6        905      1988  2631    17     3   \n",
            "2       0.9        145        5   6       1263      1716  2603    11     2   \n",
            "3       0.8        131        6   9       1216      1786  2769    16     8   \n",
            "4       0.6        141        2  14       1208      1212  1411     8     2   \n",
            "...     ...        ...      ...  ..        ...       ...   ...   ...   ...   \n",
            "1995    0.8        106        6  14       1222      1890   668    13     4   \n",
            "1996    0.2        187        4   3        915      1965  2032    11    10   \n",
            "1997    0.7        108        8   3        868      1632  3057     9     1   \n",
            "1998    0.1        145        5   5        336       670   869    18    10   \n",
            "1999    0.9        168        6  16        483       754  3919    19     4   \n",
            "\n",
            "      talk_time  three_g  touch_screen  wifi  \n",
            "0            19        0             0     1  \n",
            "1             7        1             1     0  \n",
            "2             9        1             1     0  \n",
            "3            11        1             0     0  \n",
            "4            15        1             1     0  \n",
            "...         ...      ...           ...   ...  \n",
            "1995         19        1             1     0  \n",
            "1996         16        1             1     1  \n",
            "1997          5        1             1     0  \n",
            "1998         19        1             1     1  \n",
            "1999          2        1             1     1  \n",
            "\n",
            "[2000 rows x 20 columns]\n"
          ]
        }
      ]
    },
    {
      "cell_type": "code",
      "source": [
        " z=(df-df.min())/(df.max()-df.min())\n",
        "print(z)\n"
      ],
      "metadata": {
        "colab": {
          "base_uri": "https://localhost:8080/"
        },
        "id": "CC5Lt4_zQMjW",
        "outputId": "86515051-9a57-4bb3-e923-19afec6fb155"
      },
      "execution_count": null,
      "outputs": [
        {
          "output_type": "stream",
          "name": "stdout",
          "text": [
            "      battery_power  blue  clock_speed  dual_sim        fc  four_g  \\\n",
            "0          0.227789   0.0         0.68       0.0  0.052632     0.0   \n",
            "1          0.347361   1.0         0.00       1.0  0.000000     1.0   \n",
            "2          0.041416   1.0         0.00       1.0  0.105263     1.0   \n",
            "3          0.076152   1.0         0.80       0.0  0.000000     0.0   \n",
            "4          0.881764   1.0         0.28       0.0  0.684211     1.0   \n",
            "...             ...   ...          ...       ...       ...     ...   \n",
            "1995       0.195725   1.0         0.00       1.0  0.000000     1.0   \n",
            "1996       0.977956   1.0         0.84       1.0  0.000000     0.0   \n",
            "1997       0.941884   0.0         0.16       1.0  0.052632     1.0   \n",
            "1998       0.675351   0.0         0.16       0.0  0.210526     1.0   \n",
            "1999       0.006012   1.0         0.60       1.0  0.263158     1.0   \n",
            "\n",
            "      int_memory     m_dep  mobile_wt   n_cores  ...  px_height  px_width  \\\n",
            "0       0.080645  0.555556   0.900000  0.142857  ...   0.010204  0.170895   \n",
            "1       0.822581  0.666667   0.466667  0.285714  ...   0.461735  0.993324   \n",
            "2       0.629032  0.888889   0.541667  0.571429  ...   0.644388  0.811749   \n",
            "3       0.129032  0.777778   0.425000  0.714286  ...   0.620408  0.858478   \n",
            "4       0.677419  0.555556   0.508333  0.142857  ...   0.616327  0.475300   \n",
            "...          ...       ...        ...       ...  ...        ...       ...   \n",
            "1995    0.000000  0.777778   0.216667  0.714286  ...   0.623469  0.927904   \n",
            "1996    0.596774  0.111111   0.891667  0.428571  ...   0.466837  0.977971   \n",
            "1997    0.548387  0.666667   0.233333  1.000000  ...   0.442857  0.755674   \n",
            "1998    0.709677  0.000000   0.541667  0.571429  ...   0.171429  0.113485   \n",
            "1999    0.693548  0.888889   0.733333  0.714286  ...   0.246429  0.169559   \n",
            "\n",
            "           ram      sc_h      sc_w  talk_time  three_g  touch_screen  wifi  \\\n",
            "0     0.612774  0.285714  0.388889   0.944444      0.0           0.0   1.0   \n",
            "1     0.634687  0.857143  0.166667   0.277778      1.0           1.0   0.0   \n",
            "2     0.627205  0.428571  0.111111   0.388889      1.0           1.0   0.0   \n",
            "3     0.671566  0.785714  0.444444   0.500000      1.0           0.0   0.0   \n",
            "4     0.308658  0.214286  0.111111   0.722222      1.0           1.0   0.0   \n",
            "...        ...       ...       ...        ...      ...           ...   ...   \n",
            "1995  0.110102  0.571429  0.222222   0.944444      1.0           1.0   0.0   \n",
            "1996  0.474613  0.428571  0.555556   0.777778      1.0           1.0   1.0   \n",
            "1997  0.748530  0.285714  0.055556   0.166667      1.0           1.0   0.0   \n",
            "1998  0.163816  0.928571  0.555556   0.944444      1.0           1.0   1.0   \n",
            "1999  0.978888  1.000000  0.222222   0.000000      1.0           1.0   1.0   \n",
            "\n",
            "      price_range  \n",
            "0        0.333333  \n",
            "1        0.666667  \n",
            "2        0.666667  \n",
            "3        0.666667  \n",
            "4        0.333333  \n",
            "...           ...  \n",
            "1995     0.000000  \n",
            "1996     0.666667  \n",
            "1997     1.000000  \n",
            "1998     0.000000  \n",
            "1999     1.000000  \n",
            "\n",
            "[2000 rows x 21 columns]\n"
          ]
        }
      ]
    },
    {
      "cell_type": "markdown",
      "source": [
        "Split the data into train and test.\n"
      ],
      "metadata": {
        "id": "aEqjHDc3QRUf"
      }
    },
    {
      "cell_type": "code",
      "source": [
        "from sklearn.model_selection import train_test_split"
      ],
      "metadata": {
        "id": "v_vNvZz9QTlV"
      },
      "execution_count": null,
      "outputs": []
    },
    {
      "cell_type": "code",
      "source": [
        "x_train,x_test,y_train,y_test=train_test_split(x,y,test_size=0.2,random_state=42)\n"
      ],
      "metadata": {
        "id": "iwbQFRZJQX7u"
      },
      "execution_count": null,
      "outputs": []
    },
    {
      "cell_type": "code",
      "source": [
        "print(x_train)\n",
        "print(y_train)\n",
        "print(x_test)\n",
        "print(y_test)"
      ],
      "metadata": {
        "colab": {
          "base_uri": "https://localhost:8080/"
        },
        "id": "-qqEiiNoQcME",
        "outputId": "79c8a5fe-1899-4fd0-d1ed-b04594039739"
      },
      "execution_count": null,
      "outputs": [
        {
          "output_type": "stream",
          "name": "stdout",
          "text": [
            "      battery_power  blue  clock_speed  dual_sim  fc  four_g  int_memory  \\\n",
            "968            1923     0          0.5         1   7       0          46   \n",
            "240             633     1          2.2         0   0       1          49   \n",
            "819            1236     0          0.9         1   2       1          57   \n",
            "692             781     0          1.1         0   2       0          38   \n",
            "420            1456     1          0.5         1   7       0           7   \n",
            "...             ...   ...          ...       ...  ..     ...         ...   \n",
            "1130           1975     1          1.9         1   2       0          31   \n",
            "1294            589     1          0.5         0   1       1          59   \n",
            "860            1829     1          0.5         0   0       1          15   \n",
            "1459           1927     0          0.9         1   3       0          11   \n",
            "1126            635     1          0.6         1   1       1          50   \n",
            "\n",
            "      m_dep  mobile_wt  n_cores  pc  px_height  px_width   ram  sc_h  sc_w  \\\n",
            "968     0.5        191        1  10        767      1759  1489    10     9   \n",
            "240     0.1        139        8   1        529      1009  3560    11     1   \n",
            "819     0.1        188        1  14        517       809  1406    14    12   \n",
            "692     0.4        198        5   7        304      1674  3508    13     8   \n",
            "420     0.4        105        5  12        823      1104  1587     6     5   \n",
            "...     ...        ...      ...  ..        ...       ...   ...   ...   ...   \n",
            "1130    0.9        151        1  17        775      1607  3022    13     5   \n",
            "1294    0.7        146        8   4        759      1858   362    16    10   \n",
            "860     0.4        160        5   7        729      1267  2080    16    11   \n",
            "1459    0.4        190        8  12        491      1506  2916    16    11   \n",
            "1126    0.3         97        5  13        193       989  2107    13    12   \n",
            "\n",
            "      talk_time  three_g  touch_screen  wifi  \n",
            "968           3        1             1     1  \n",
            "240          16        1             1     1  \n",
            "819          20        1             0     1  \n",
            "692           5        0             0     1  \n",
            "420          20        1             0     1  \n",
            "...         ...      ...           ...   ...  \n",
            "1130         19        0             0     1  \n",
            "1294          6        1             1     1  \n",
            "860          12        1             0     1  \n",
            "1459         18        0             1     1  \n",
            "1126         12        1             0     0  \n",
            "\n",
            "[1600 rows x 20 columns]\n",
            "968     1\n",
            "240     2\n",
            "819     0\n",
            "692     3\n",
            "420     1\n",
            "       ..\n",
            "1130    3\n",
            "1294    0\n",
            "860     2\n",
            "1459    3\n",
            "1126    1\n",
            "Name: price_range, Length: 1600, dtype: int64\n",
            "      battery_power  blue  clock_speed  dual_sim  fc  four_g  int_memory  \\\n",
            "1860           1646     0          2.5         0   3       1          25   \n",
            "353            1182     0          0.5         0   7       1           8   \n",
            "1333           1972     0          2.9         0   9       0          14   \n",
            "905             989     1          2.0         0   4       0          17   \n",
            "1289            615     1          0.5         1   7       0          58   \n",
            "...             ...   ...          ...       ...  ..     ...         ...   \n",
            "965            1379     0          0.5         1   1       0          19   \n",
            "1284            991     0          2.0         0   2       1          12   \n",
            "1739           1044     0          1.8         0   4       1          12   \n",
            "261             728     0          2.7         1   0       0          25   \n",
            "535            1185     0          1.9         0   0       0          31   \n",
            "\n",
            "      m_dep  mobile_wt  n_cores  pc  px_height  px_width   ram  sc_h  sc_w  \\\n",
            "1860    0.6        200        2   5        211      1608   686     8     6   \n",
            "353     0.5        138        8  16        275       986  2563    19    17   \n",
            "1333    0.4        196        7  18        293       952  1316     8     1   \n",
            "905     0.2        166        3  19        256      1394  3892    18     7   \n",
            "1289    0.5        130        5   8       1021      1958  1906    14     5   \n",
            "...     ...        ...      ...  ..        ...       ...   ...   ...   ...   \n",
            "965     0.3        134        8  17        387       671  3912    11     2   \n",
            "1284    0.3        158        5   6       1209      1678  2014    11     9   \n",
            "1739    0.7        104        6   5       1230      1263  1794    18     7   \n",
            "261     0.2         88        4   1        526      1529  2039     5     1   \n",
            "535     0.4        152        8   7        837      1642  2447    16     2   \n",
            "\n",
            "      talk_time  three_g  touch_screen  wifi  \n",
            "1860         11        1             1     0  \n",
            "353          19        1             0     0  \n",
            "1333          8        1             1     0  \n",
            "905          19        1             1     0  \n",
            "1289          5        1             0     0  \n",
            "...         ...      ...           ...   ...  \n",
            "965          19        0             1     1  \n",
            "1284         10        1             0     0  \n",
            "1739         19        1             1     1  \n",
            "261          12        1             1     1  \n",
            "535           3        1             1     1  \n",
            "\n",
            "[400 rows x 20 columns]\n",
            "1860    0\n",
            "353     2\n",
            "1333    1\n",
            "905     3\n",
            "1289    1\n",
            "       ..\n",
            "965     3\n",
            "1284    2\n",
            "1739    1\n",
            "261     1\n",
            "535     2\n",
            "Name: price_range, Length: 400, dtype: int64\n"
          ]
        }
      ]
    },
    {
      "cell_type": "markdown",
      "source": [
        "1.Read the data with pandas and describe the data"
      ],
      "metadata": {
        "id": "51tzU0--QtRG"
      }
    },
    {
      "cell_type": "code",
      "source": [
        "import pandas as pd\n",
        "file_path = \"/content/sample_data/california_housing_train.csv\"\n",
        "df = pd.read_csv(file_path)\n",
        "print(df)"
      ],
      "metadata": {
        "colab": {
          "base_uri": "https://localhost:8080/"
        },
        "id": "K_QQ5_UkQzq3",
        "outputId": "a8ec0a0b-3ffd-4b03-be39-4e374a7e761f"
      },
      "execution_count": null,
      "outputs": [
        {
          "output_type": "stream",
          "name": "stdout",
          "text": [
            "       longitude  latitude  housing_median_age  total_rooms  total_bedrooms  \\\n",
            "0        -114.31     34.19                15.0       5612.0          1283.0   \n",
            "1        -114.47     34.40                19.0       7650.0          1901.0   \n",
            "2        -114.56     33.69                17.0        720.0           174.0   \n",
            "3        -114.57     33.64                14.0       1501.0           337.0   \n",
            "4        -114.57     33.57                20.0       1454.0           326.0   \n",
            "...          ...       ...                 ...          ...             ...   \n",
            "16995    -124.26     40.58                52.0       2217.0           394.0   \n",
            "16996    -124.27     40.69                36.0       2349.0           528.0   \n",
            "16997    -124.30     41.84                17.0       2677.0           531.0   \n",
            "16998    -124.30     41.80                19.0       2672.0           552.0   \n",
            "16999    -124.35     40.54                52.0       1820.0           300.0   \n",
            "\n",
            "       population  households  median_income  median_house_value  \n",
            "0          1015.0       472.0         1.4936             66900.0  \n",
            "1          1129.0       463.0         1.8200             80100.0  \n",
            "2           333.0       117.0         1.6509             85700.0  \n",
            "3           515.0       226.0         3.1917             73400.0  \n",
            "4           624.0       262.0         1.9250             65500.0  \n",
            "...           ...         ...            ...                 ...  \n",
            "16995       907.0       369.0         2.3571            111400.0  \n",
            "16996      1194.0       465.0         2.5179             79000.0  \n",
            "16997      1244.0       456.0         3.0313            103600.0  \n",
            "16998      1298.0       478.0         1.9797             85800.0  \n",
            "16999       806.0       270.0         3.0147             94600.0  \n",
            "\n",
            "[17000 rows x 9 columns]\n"
          ]
        }
      ]
    },
    {
      "cell_type": "markdown",
      "source": [
        "2.Find data type and shape of each column"
      ],
      "metadata": {
        "id": "-CK-6x9RQ4yo"
      }
    },
    {
      "cell_type": "code",
      "source": [
        " df.dtypes\n"
      ],
      "metadata": {
        "colab": {
          "base_uri": "https://localhost:8080/",
          "height": 366
        },
        "id": "G4fu-t0RQ71u",
        "outputId": "e4cbf4d0-213b-4795-a30e-c2e47b5fb25e"
      },
      "execution_count": null,
      "outputs": [
        {
          "output_type": "execute_result",
          "data": {
            "text/plain": [
              "longitude             float64\n",
              "latitude              float64\n",
              "housing_median_age    float64\n",
              "total_rooms           float64\n",
              "total_bedrooms        float64\n",
              "population            float64\n",
              "households            float64\n",
              "median_income         float64\n",
              "median_house_value    float64\n",
              "dtype: object"
            ],
            "text/html": [
              "<div>\n",
              "<style scoped>\n",
              "    .dataframe tbody tr th:only-of-type {\n",
              "        vertical-align: middle;\n",
              "    }\n",
              "\n",
              "    .dataframe tbody tr th {\n",
              "        vertical-align: top;\n",
              "    }\n",
              "\n",
              "    .dataframe thead th {\n",
              "        text-align: right;\n",
              "    }\n",
              "</style>\n",
              "<table border=\"1\" class=\"dataframe\">\n",
              "  <thead>\n",
              "    <tr style=\"text-align: right;\">\n",
              "      <th></th>\n",
              "      <th>0</th>\n",
              "    </tr>\n",
              "  </thead>\n",
              "  <tbody>\n",
              "    <tr>\n",
              "      <th>longitude</th>\n",
              "      <td>float64</td>\n",
              "    </tr>\n",
              "    <tr>\n",
              "      <th>latitude</th>\n",
              "      <td>float64</td>\n",
              "    </tr>\n",
              "    <tr>\n",
              "      <th>housing_median_age</th>\n",
              "      <td>float64</td>\n",
              "    </tr>\n",
              "    <tr>\n",
              "      <th>total_rooms</th>\n",
              "      <td>float64</td>\n",
              "    </tr>\n",
              "    <tr>\n",
              "      <th>total_bedrooms</th>\n",
              "      <td>float64</td>\n",
              "    </tr>\n",
              "    <tr>\n",
              "      <th>population</th>\n",
              "      <td>float64</td>\n",
              "    </tr>\n",
              "    <tr>\n",
              "      <th>households</th>\n",
              "      <td>float64</td>\n",
              "    </tr>\n",
              "    <tr>\n",
              "      <th>median_income</th>\n",
              "      <td>float64</td>\n",
              "    </tr>\n",
              "    <tr>\n",
              "      <th>median_house_value</th>\n",
              "      <td>float64</td>\n",
              "    </tr>\n",
              "  </tbody>\n",
              "</table>\n",
              "</div><br><label><b>dtype:</b> object</label>"
            ]
          },
          "metadata": {},
          "execution_count": 10
        }
      ]
    },
    {
      "cell_type": "code",
      "source": [
        "df.shape"
      ],
      "metadata": {
        "colab": {
          "base_uri": "https://localhost:8080/"
        },
        "id": "hWbXaXZkQ_e6",
        "outputId": "150efcf3-3fea-4f70-bd8f-5d423eca834e"
      },
      "execution_count": null,
      "outputs": [
        {
          "output_type": "execute_result",
          "data": {
            "text/plain": [
              "(17000, 9)"
            ]
          },
          "metadata": {},
          "execution_count": 11
        }
      ]
    },
    {
      "cell_type": "code",
      "source": [
        " x=df['median_house_value']\n",
        "print(x)\n"
      ],
      "metadata": {
        "colab": {
          "base_uri": "https://localhost:8080/"
        },
        "id": "6PDbtQJJRC9M",
        "outputId": "bc4497e9-7ebb-495a-e8b8-04268ac65ac4"
      },
      "execution_count": null,
      "outputs": [
        {
          "output_type": "stream",
          "name": "stdout",
          "text": [
            "0         66900.0\n",
            "1         80100.0\n",
            "2         85700.0\n",
            "3         73400.0\n",
            "4         65500.0\n",
            "           ...   \n",
            "16995    111400.0\n",
            "16996     79000.0\n",
            "16997    103600.0\n",
            "16998     85800.0\n",
            "16999     94600.0\n",
            "Name: median_house_value, Length: 17000, dtype: float64\n"
          ]
        }
      ]
    },
    {
      "cell_type": "markdown",
      "source": [
        "4.Find the null values (if yes fill the null values with ‘0’ or mean of that column)"
      ],
      "metadata": {
        "id": "uyZudCixRGiq"
      }
    },
    {
      "cell_type": "code",
      "source": [
        " df_filled_zero = df.fillna(0)\n",
        "print(df)\n"
      ],
      "metadata": {
        "colab": {
          "base_uri": "https://localhost:8080/"
        },
        "id": "35ywhYOgRKaL",
        "outputId": "197c9506-3908-4f3a-96c4-6ed59a279751"
      },
      "execution_count": null,
      "outputs": [
        {
          "output_type": "stream",
          "name": "stdout",
          "text": [
            "       longitude  latitude  housing_median_age  total_rooms  total_bedrooms  \\\n",
            "0        -114.31     34.19                15.0       5612.0          1283.0   \n",
            "1        -114.47     34.40                19.0       7650.0          1901.0   \n",
            "2        -114.56     33.69                17.0        720.0           174.0   \n",
            "3        -114.57     33.64                14.0       1501.0           337.0   \n",
            "4        -114.57     33.57                20.0       1454.0           326.0   \n",
            "...          ...       ...                 ...          ...             ...   \n",
            "16995    -124.26     40.58                52.0       2217.0           394.0   \n",
            "16996    -124.27     40.69                36.0       2349.0           528.0   \n",
            "16997    -124.30     41.84                17.0       2677.0           531.0   \n",
            "16998    -124.30     41.80                19.0       2672.0           552.0   \n",
            "16999    -124.35     40.54                52.0       1820.0           300.0   \n",
            "\n",
            "       population  households  median_income  median_house_value  \n",
            "0          1015.0       472.0         1.4936             66900.0  \n",
            "1          1129.0       463.0         1.8200             80100.0  \n",
            "2           333.0       117.0         1.6509             85700.0  \n",
            "3           515.0       226.0         3.1917             73400.0  \n",
            "4           624.0       262.0         1.9250             65500.0  \n",
            "...           ...         ...            ...                 ...  \n",
            "16995       907.0       369.0         2.3571            111400.0  \n",
            "16996      1194.0       465.0         2.5179             79000.0  \n",
            "16997      1244.0       456.0         3.0313            103600.0  \n",
            "16998      1298.0       478.0         1.9797             85800.0  \n",
            "16999       806.0       270.0         3.0147             94600.0  \n",
            "\n",
            "[17000 rows x 9 columns]\n"
          ]
        }
      ]
    },
    {
      "cell_type": "markdown",
      "source": [
        "5.Normalize all the features"
      ],
      "metadata": {
        "id": "woEPqSUwRNeE"
      }
    },
    {
      "cell_type": "code",
      "source": [
        " y=df.drop('median_house_value',axis=1)\n",
        "print(y)"
      ],
      "metadata": {
        "colab": {
          "base_uri": "https://localhost:8080/"
        },
        "id": "5f_DtyztRP6J",
        "outputId": "a13eba49-70a9-4147-f6ed-91f5c2ef6d3e"
      },
      "execution_count": null,
      "outputs": [
        {
          "output_type": "stream",
          "name": "stdout",
          "text": [
            "       longitude  latitude  housing_median_age  total_rooms  total_bedrooms  \\\n",
            "0        -114.31     34.19                15.0       5612.0          1283.0   \n",
            "1        -114.47     34.40                19.0       7650.0          1901.0   \n",
            "2        -114.56     33.69                17.0        720.0           174.0   \n",
            "3        -114.57     33.64                14.0       1501.0           337.0   \n",
            "4        -114.57     33.57                20.0       1454.0           326.0   \n",
            "...          ...       ...                 ...          ...             ...   \n",
            "16995    -124.26     40.58                52.0       2217.0           394.0   \n",
            "16996    -124.27     40.69                36.0       2349.0           528.0   \n",
            "16997    -124.30     41.84                17.0       2677.0           531.0   \n",
            "16998    -124.30     41.80                19.0       2672.0           552.0   \n",
            "16999    -124.35     40.54                52.0       1820.0           300.0   \n",
            "\n",
            "       population  households  median_income  \n",
            "0          1015.0       472.0         1.4936  \n",
            "1          1129.0       463.0         1.8200  \n",
            "2           333.0       117.0         1.6509  \n",
            "3           515.0       226.0         3.1917  \n",
            "4           624.0       262.0         1.9250  \n",
            "...           ...         ...            ...  \n",
            "16995       907.0       369.0         2.3571  \n",
            "16996      1194.0       465.0         2.5179  \n",
            "16997      1244.0       456.0         3.0313  \n",
            "16998      1298.0       478.0         1.9797  \n",
            "16999       806.0       270.0         3.0147  \n",
            "\n",
            "[17000 rows x 8 columns]\n"
          ]
        }
      ]
    },
    {
      "cell_type": "markdown",
      "source": [
        "6.Split the data into train and test."
      ],
      "metadata": {
        "id": "QP0JbBCeRSG0"
      }
    },
    {
      "cell_type": "code",
      "source": [
        " from sklearn.model_selection import train_test_split\n"
      ],
      "metadata": {
        "id": "S6iqTSt4RUsd"
      },
      "execution_count": null,
      "outputs": []
    },
    {
      "cell_type": "code",
      "source": [
        "x_train,x_test,y_train,y_test=train_test_split(x,y,test_size=0.2,random_state=42)\n"
      ],
      "metadata": {
        "id": "l6LN-zc7RYY7"
      },
      "execution_count": null,
      "outputs": []
    },
    {
      "cell_type": "code",
      "source": [
        "print(x_train)\n",
        "print(y_train)\n",
        "print(x_test)\n",
        "print(y_test)"
      ],
      "metadata": {
        "colab": {
          "base_uri": "https://localhost:8080/"
        },
        "id": "WAzyFchcRd4K",
        "outputId": "74416788-8d00-4552-9f7b-148cd56dbc37"
      },
      "execution_count": null,
      "outputs": [
        {
          "output_type": "stream",
          "name": "stdout",
          "text": [
            "4679     398800.0\n",
            "2512     353600.0\n",
            "993      138900.0\n",
            "1327     176300.0\n",
            "4630     326100.0\n",
            "           ...   \n",
            "11284    134600.0\n",
            "11964    115300.0\n",
            "5390     147400.0\n",
            "860      142600.0\n",
            "15795    236100.0\n",
            "Name: median_house_value, Length: 13600, dtype: float64\n",
            "       longitude  latitude  housing_median_age  total_rooms  total_bedrooms  \\\n",
            "4679     -118.07     33.81                22.0       2711.0           352.0   \n",
            "2512     -117.63     33.50                12.0       3619.0           536.0   \n",
            "993      -117.09     32.57                17.0        444.0            83.0   \n",
            "1327     -117.16     32.81                34.0       2275.0           375.0   \n",
            "4630     -118.07     34.17                36.0       2415.0           394.0   \n",
            "...          ...       ...                 ...          ...             ...   \n",
            "11284    -121.13     37.74                21.0       2376.0           475.0   \n",
            "11964    -121.38     38.62                41.0        774.0           144.0   \n",
            "5390     -118.15     33.91                38.0        901.0           205.0   \n",
            "860      -117.07     32.56                 9.0       3648.0           895.0   \n",
            "15795    -122.41     37.75                52.0       2452.0           623.0   \n",
            "\n",
            "       population  households  median_income  \n",
            "4679       1305.0       368.0         8.5407  \n",
            "2512       1506.0       492.0         7.2013  \n",
            "993         357.0        87.0         5.1478  \n",
            "1327       1021.0       379.0         3.6371  \n",
            "4630       1215.0       413.0         5.5418  \n",
            "...           ...         ...            ...  \n",
            "11284      1175.0       441.0         3.6016  \n",
            "11964       356.0       150.0         3.5625  \n",
            "5390        760.0       208.0         2.9643  \n",
            "860        3293.0       840.0         3.0992  \n",
            "15795      1932.0       549.0         2.3903  \n",
            "\n",
            "[13600 rows x 8 columns]\n",
            "10941    142700.0\n",
            "5250     500001.0\n",
            "10292     61800.0\n",
            "2266     162800.0\n",
            "6398      90600.0\n",
            "           ...   \n",
            "4706     211400.0\n",
            "8404     500001.0\n",
            "11114    162500.0\n",
            "7877     360700.0\n",
            "6188     137500.0\n",
            "Name: median_house_value, Length: 3400, dtype: float64\n",
            "       longitude  latitude  housing_median_age  total_rooms  total_bedrooms  \\\n",
            "10941    -120.87     37.77                 9.0       4838.0           920.0   \n",
            "5250     -118.14     34.11                52.0       2742.0           422.0   \n",
            "10292    -120.05     36.98                16.0       3705.0           739.0   \n",
            "2266     -117.42     34.02                 9.0       5455.0           882.0   \n",
            "6398     -118.26     33.97                52.0       1331.0           346.0   \n",
            "...          ...       ...                 ...          ...             ...   \n",
            "4706     -118.08     34.08                43.0       1716.0           402.0   \n",
            "8404     -118.47     34.06                45.0       1271.0           190.0   \n",
            "11114    -121.00     37.64                19.0        121.0            41.0   \n",
            "7877     -118.40     34.14                45.0        417.0            89.0   \n",
            "6188     -118.24     34.07                27.0        223.0            80.0   \n",
            "\n",
            "       population  households  median_income  \n",
            "10941      2460.0       923.0         3.5959  \n",
            "5250       1153.0       414.0         8.1124  \n",
            "10292      2463.0       697.0         2.5288  \n",
            "2266       3015.0       858.0         4.2321  \n",
            "6398       1144.0       362.0         1.5326  \n",
            "...           ...         ...            ...  \n",
            "4706       1343.0       386.0         2.9688  \n",
            "8404        419.0       171.0         7.6447  \n",
            "11114       658.0        41.0         0.9573  \n",
            "7877        187.0        88.0         5.1377  \n",
            "6188        249.0        82.0         1.6136  \n",
            "\n",
            "[3400 rows x 8 columns]\n"
          ]
        }
      ]
    }
  ]
}